{
 "cells": [
  {
   "cell_type": "code",
   "execution_count": 13,
   "metadata": {},
   "outputs": [],
   "source": [
    "from nrgljubljana_interface import Solver\n",
    "\n",
    "from pytriqs.gf import *\n",
    "from pytriqs.archive import *\n",
    "\n",
    "# Construct Parameters\n",
    "cp = {}\n",
    "cp[\"problem\"] = \"SIAM\"\n",
    "cp[\"mesh_max\"] = 1.0\n",
    "cp[\"mesh_min\"] = 1e-2\n",
    "cp[\"mesh_ratio\"] = 2.0\n",
    "\n",
    "# Set up the Solver\n",
    "S = Solver(**cp)\n",
    "\n",
    "# Solve Parameters\n",
    "sp = {}\n",
    "sp[\"Lambda\"] = 2.0\n",
    "sp[\"Nz\"] = 1\n",
    "sp[\"Tmin\"] = 1e-5\n",
    "sp[\"keep\"] = 1000\n",
    "sp[\"keepenergy\"] = 8.0\n",
    "sp[\"ops\"] = \"n_d n_d^2 hop0 A_d sigma_d\"\n",
    "sp[\"specs\"] = \"n_d-n_d\"\n",
    "sp[\"specd\"] = \"A_d-A_d\"\n",
    "sp[\"spect\"] = \"sigma_d-sigma_d\"\n",
    "sp[\"dmnrg\"] = True\n",
    "sp[\"fdm\"] = True\n",
    "\n",
    "# Model Parameters\n",
    "mp = {}\n",
    "mp[\"U1\"] = 0.1\n",
    "mp[\"eps1\"] = -0.04\n",
    "sp[\"model_parameters\"] = mp\n",
    "\n",
    "# Low-level NRG Parameters\n",
    "#np = {}\n",
    "#np[\"bandrescale\"] = 1\n",
    "#S.set_nrg_params(**np)"
   ]
  },
  {
   "cell_type": "code",
   "execution_count": 14,
   "metadata": {},
   "outputs": [
    {
     "name": "stdout",
     "output_type": "stream",
     "text": [
      "[[[-0.75817374-1.57079633j]]\n",
      "\n",
      " [[-0.33164711-1.57079633j]]\n",
      "\n",
      " [[-0.1613867 -1.57079633j]]\n",
      "\n",
      " [[-0.08017133-1.57079633j]]\n",
      "\n",
      " [[-0.04002135-1.57079633j]]\n",
      "\n",
      " [[-0.02000267-1.57079633j]]\n",
      "\n",
      " [[-0.01000033-1.57079633j]]\n",
      "\n",
      " [[ 0.01000033-1.57079633j]]\n",
      "\n",
      " [[ 0.02000267-1.57079633j]]\n",
      "\n",
      " [[ 0.04002135-1.57079633j]]\n",
      "\n",
      " [[ 0.08017133-1.57079633j]]\n",
      "\n",
      " [[ 0.1613867 -1.57079633j]]\n",
      "\n",
      " [[ 0.33164711-1.57079633j]]\n",
      "\n",
      " [[ 0.75817374-1.57079633j]]]\n"
     ]
    }
   ],
   "source": [
    "# Initialize hybridization function\n",
    "# for w in S.Delta_w.mesh: S.Delta_w[w] = 1 / w\n",
    "S.Delta_w << Flat(1.0)\n",
    "\n",
    "from pytriqs.plot.mpl_interface import *\n",
    "\n",
    "print S.Delta_w.data\n",
    "#oplot(S.Delta_w)"
   ]
  },
  {
   "cell_type": "code",
   "execution_count": null,
   "metadata": {},
   "outputs": [],
   "source": [
    "# Solve the impurity model\n",
    "S.solve(**sp)\n",
    "\n",
    "# Store the Result\n",
    "with HDFArchive(\"SIAM.out.h5\", 'w') as arch:\n",
    "    arch[\"S\"] = S"
   ]
  }
 ],
 "metadata": {
  "kernelspec": {
   "display_name": "Python 2",
   "language": "python",
   "name": "python2"
  },
  "language_info": {
   "codemirror_mode": {
    "name": "ipython",
    "version": 2
   },
   "file_extension": ".py",
   "mimetype": "text/x-python",
   "name": "python",
   "nbconvert_exporter": "python",
   "pygments_lexer": "ipython2",
   "version": "2.7.16"
  }
 },
 "nbformat": 4,
 "nbformat_minor": 2
}
