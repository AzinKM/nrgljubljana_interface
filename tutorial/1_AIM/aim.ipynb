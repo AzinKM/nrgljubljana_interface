{
 "cells": [
  {
   "cell_type": "code",
   "execution_count": 1,
   "metadata": {},
   "outputs": [
    {
     "name": "stderr",
     "output_type": "stream",
     "text": [
      "Starting run with 1 MPI rank(s) at : 2020-02-04 16:31:20.714235\n"
     ]
    }
   ],
   "source": [
    "from nrgljubljana_interface import Solver, Flat, MeshReFreqPts"
   ]
  },
  {
   "cell_type": "code",
   "execution_count": 2,
   "metadata": {},
   "outputs": [],
   "source": [
    "import matplotlib as mpl\n",
    "import matplotlib.pyplot as plt\n",
    "import numpy as np"
   ]
  },
  {
   "cell_type": "code",
   "execution_count": 3,
   "metadata": {},
   "outputs": [],
   "source": [
    "# Parameters\n",
    "D, V, U = 1.0, 0.25, 1.0\n",
    "e_f = -U/2.0 # particle-hole symmetric case\n",
    "T = 1e-5"
   ]
  },
  {
   "cell_type": "code",
   "execution_count": 4,
   "metadata": {},
   "outputs": [],
   "source": [
    "# Set up the Solver\n",
    "S = Solver(model = \"SIAM\", symtype = \"QS\", mesh_max = 2.0, mesh_min = 1e-5, mesh_ratio = 1.01)"
   ]
  },
  {
   "cell_type": "code",
   "execution_count": 5,
   "metadata": {},
   "outputs": [],
   "source": [
    "# Solve Parameters\n",
    "sp = { \"T\": T, \"Lambda\": 2.0, \"Nz\": 4, \"Tmin\": 1e-6, \"keep\": 2000, \"keepenergy\": 10.0, \"bandrescale\": 1.0 }"
   ]
  },
  {
   "cell_type": "code",
   "execution_count": 6,
   "metadata": {},
   "outputs": [],
   "source": [
    "# Model Parameters\n",
    "mp = { \"U1\": U, \"eps1\": e_f }\n",
    "sp[\"model_parameters\"] = mp"
   ]
  },
  {
   "cell_type": "code",
   "execution_count": 7,
   "metadata": {},
   "outputs": [
    {
     "data": {
      "text/plain": [
       "Greens Function G_imp with mesh Point mesh of size 2454 and target_rank 2: "
      ]
     },
     "execution_count": 7,
     "metadata": {},
     "output_type": "execute_result"
    }
   ],
   "source": [
    "# Initialize hybridization function\n",
    "S.Delta_w['imp'] << V**2 * Flat(D)"
   ]
  },
  {
   "cell_type": "code",
   "execution_count": 8,
   "metadata": {},
   "outputs": [],
   "source": [
    "# Solve the impurity model\n",
    "S.solve(**sp)"
   ]
  },
  {
   "cell_type": "code",
   "execution_count": 9,
   "metadata": {},
   "outputs": [
    {
     "name": "stdout",
     "output_type": "stream",
     "text": [
      "('<n>=', 1.0)\n",
      "('<n^2>=', 1.1194946647500001)\n"
     ]
    }
   ],
   "source": [
    "print(\"<n>=\", S.expv[\"n_d\"])\n",
    "print(\"<n^2>=\", S.expv[\"n_d^2\"])"
   ]
  },
  {
   "cell_type": "code",
   "execution_count": 10,
   "metadata": {},
   "outputs": [
    {
     "data": {
      "image/png": "[encoded data removed]",
      "text/plain": [
       "<Figure size 432x288 with 1 Axes>"
      ]
     },
     "metadata": {
      "needs_background": "light"
     },
     "output_type": "display_data"
    }
   ],
   "source": [
    "def A_to_nparrays(A):\n",
    "    lx = np.array(list(A.mesh.values()))\n",
    "    ly = np.array(A.data[:,0,0].real)\n",
    "    return lx, ly\n",
    "\n",
    "# Plot the spectral function\n",
    "A_w = S.A_w['imp']\n",
    "lx, ly = A_to_nparrays(A_w)\n",
    "plt.plot(lx, ly)\n",
    "plt.show()"
   ]
  },
  {
   "cell_type": "code",
   "execution_count": null,
   "metadata": {},
   "outputs": [],
   "source": []
  }
 ],
 "metadata": {
  "kernelspec": {
   "display_name": "Python 3",
   "language": "python",
   "name": "python3"
  },
  "language_info": {
   "codemirror_mode": {
    "name": "ipython",
    "version": 3
   },
   "file_extension": ".py",
   "mimetype": "text/x-python",
   "name": "python",
   "nbconvert_exporter": "python",
   "pygments_lexer": "ipython3"
  }
 },
 "nbformat": 4,
 "nbformat_minor": 2
}
